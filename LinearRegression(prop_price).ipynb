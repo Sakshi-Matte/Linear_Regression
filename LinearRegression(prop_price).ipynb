{
 "cells": [
  {
   "cell_type": "code",
   "execution_count": 1,
   "id": "9881a420",
   "metadata": {},
   "outputs": [
    {
     "name": "stderr",
     "output_type": "stream",
     "text": [
      "C:\\Users\\NIHARIKA\\AppData\\Roaming\\Python\\Python310\\site-packages\\pandas\\core\\arrays\\masked.py:60: UserWarning: Pandas requires version '1.3.6' or newer of 'bottleneck' (version '1.3.5' currently installed).\n",
      "  from pandas.core import (\n"
     ]
    }
   ],
   "source": [
    "import pandas as pd"
   ]
  },
  {
   "cell_type": "code",
   "execution_count": 2,
   "id": "1f8b3d90",
   "metadata": {},
   "outputs": [],
   "source": [
    "pp=pd.read_csv(\"Property_Price_Train.csv\")"
   ]
  },
  {
   "cell_type": "code",
   "execution_count": 3,
   "id": "22324061",
   "metadata": {},
   "outputs": [],
   "source": [
    "df1=pd.DataFrame(pp.isnull().sum()[pp.isnull().sum()>0])"
   ]
  },
  {
   "cell_type": "code",
   "execution_count": 4,
   "id": "d554e60e",
   "metadata": {},
   "outputs": [
    {
     "data": {
      "text/html": [
       "<div>\n",
       "<style scoped>\n",
       "    .dataframe tbody tr th:only-of-type {\n",
       "        vertical-align: middle;\n",
       "    }\n",
       "\n",
       "    .dataframe tbody tr th {\n",
       "        vertical-align: top;\n",
       "    }\n",
       "\n",
       "    .dataframe thead th {\n",
       "        text-align: right;\n",
       "    }\n",
       "</style>\n",
       "<table border=\"1\" class=\"dataframe\">\n",
       "  <thead>\n",
       "    <tr style=\"text-align: right;\">\n",
       "      <th></th>\n",
       "      <th>NullsCount</th>\n",
       "    </tr>\n",
       "  </thead>\n",
       "  <tbody>\n",
       "    <tr>\n",
       "      <th>Pool_Quality</th>\n",
       "      <td>1452</td>\n",
       "    </tr>\n",
       "    <tr>\n",
       "      <th>Miscellaneous_Feature</th>\n",
       "      <td>1405</td>\n",
       "    </tr>\n",
       "    <tr>\n",
       "      <th>Lane_Type</th>\n",
       "      <td>1368</td>\n",
       "    </tr>\n",
       "    <tr>\n",
       "      <th>Fence_Quality</th>\n",
       "      <td>1178</td>\n",
       "    </tr>\n",
       "    <tr>\n",
       "      <th>Brick_Veneer_Type</th>\n",
       "      <td>871</td>\n",
       "    </tr>\n",
       "    <tr>\n",
       "      <th>Fireplace_Quality</th>\n",
       "      <td>689</td>\n",
       "    </tr>\n",
       "    <tr>\n",
       "      <th>Lot_Extent</th>\n",
       "      <td>259</td>\n",
       "    </tr>\n",
       "    <tr>\n",
       "      <th>Garage</th>\n",
       "      <td>81</td>\n",
       "    </tr>\n",
       "    <tr>\n",
       "      <th>Garage_Built_Year</th>\n",
       "      <td>81</td>\n",
       "    </tr>\n",
       "    <tr>\n",
       "      <th>Garage_Finish_Year</th>\n",
       "      <td>81</td>\n",
       "    </tr>\n",
       "    <tr>\n",
       "      <th>Garage_Quality</th>\n",
       "      <td>81</td>\n",
       "    </tr>\n",
       "    <tr>\n",
       "      <th>Garage_Condition</th>\n",
       "      <td>81</td>\n",
       "    </tr>\n",
       "    <tr>\n",
       "      <th>BsmtFinType2</th>\n",
       "      <td>38</td>\n",
       "    </tr>\n",
       "    <tr>\n",
       "      <th>Exposure_Level</th>\n",
       "      <td>38</td>\n",
       "    </tr>\n",
       "    <tr>\n",
       "      <th>BsmtFinType1</th>\n",
       "      <td>37</td>\n",
       "    </tr>\n",
       "    <tr>\n",
       "      <th>Basement_Condition</th>\n",
       "      <td>37</td>\n",
       "    </tr>\n",
       "    <tr>\n",
       "      <th>Basement_Height</th>\n",
       "      <td>37</td>\n",
       "    </tr>\n",
       "    <tr>\n",
       "      <th>Brick_Veneer_Area</th>\n",
       "      <td>8</td>\n",
       "    </tr>\n",
       "    <tr>\n",
       "      <th>Electrical_System</th>\n",
       "      <td>1</td>\n",
       "    </tr>\n",
       "  </tbody>\n",
       "</table>\n",
       "</div>"
      ],
      "text/plain": [
       "                       NullsCount\n",
       "Pool_Quality                 1452\n",
       "Miscellaneous_Feature        1405\n",
       "Lane_Type                    1368\n",
       "Fence_Quality                1178\n",
       "Brick_Veneer_Type             871\n",
       "Fireplace_Quality             689\n",
       "Lot_Extent                    259\n",
       "Garage                         81\n",
       "Garage_Built_Year              81\n",
       "Garage_Finish_Year             81\n",
       "Garage_Quality                 81\n",
       "Garage_Condition               81\n",
       "BsmtFinType2                   38\n",
       "Exposure_Level                 38\n",
       "BsmtFinType1                   37\n",
       "Basement_Condition             37\n",
       "Basement_Height                37\n",
       "Brick_Veneer_Area               8\n",
       "Electrical_System               1"
      ]
     },
     "execution_count": 4,
     "metadata": {},
     "output_type": "execute_result"
    }
   ],
   "source": [
    "df1.columns=['NullsCount']\n",
    "df1=df1.sort_values('NullsCount',ascending=False)\n",
    "df1"
   ]
  },
  {
   "cell_type": "code",
   "execution_count": 5,
   "id": "4033e53e",
   "metadata": {},
   "outputs": [],
   "source": [
    "l1=list(df1.index[0:6])\n",
    "l1\n",
    "\n",
    "pp=pp.drop(l1,axis=1)"
   ]
  },
  {
   "cell_type": "code",
   "execution_count": 6,
   "id": "c901af63",
   "metadata": {},
   "outputs": [],
   "source": [
    "pp=pp.drop('Id',axis=1)"
   ]
  },
  {
   "cell_type": "code",
   "execution_count": 7,
   "id": "d94d6087",
   "metadata": {},
   "outputs": [
    {
     "data": {
      "text/plain": [
       "Lot_Extent            259\n",
       "Brick_Veneer_Area       8\n",
       "Basement_Height        37\n",
       "Basement_Condition     37\n",
       "Exposure_Level         38\n",
       "BsmtFinType1           37\n",
       "BsmtFinType2           38\n",
       "Electrical_System       1\n",
       "Garage                 81\n",
       "Garage_Built_Year      81\n",
       "Garage_Finish_Year     81\n",
       "Garage_Quality         81\n",
       "Garage_Condition       81\n",
       "dtype: int64"
      ]
     },
     "execution_count": 7,
     "metadata": {},
     "output_type": "execute_result"
    }
   ],
   "source": [
    "pp.isnull().sum()[pp.isnull().sum()>0]"
   ]
  },
  {
   "cell_type": "code",
   "execution_count": 8,
   "id": "ec6be902",
   "metadata": {},
   "outputs": [
    {
     "name": "stderr",
     "output_type": "stream",
     "text": [
      "C:\\Users\\NIHARIKA\\AppData\\Local\\Temp\\ipykernel_5668\\1542776808.py:1: FutureWarning: A value is trying to be set on a copy of a DataFrame or Series through chained assignment using an inplace method.\n",
      "The behavior will change in pandas 3.0. This inplace method will never work because the intermediate object on which we are setting values always behaves as a copy.\n",
      "\n",
      "For example, when doing 'df[col].method(value, inplace=True)', try using 'df.method({col: value}, inplace=True)' or df[col] = df[col].method(value) instead, to perform the operation inplace on the original object.\n",
      "\n",
      "\n",
      "  pp.Lot_Extent.fillna(60.0,inplace=True)\n",
      "C:\\Users\\NIHARIKA\\AppData\\Local\\Temp\\ipykernel_5668\\1542776808.py:3: FutureWarning: A value is trying to be set on a copy of a DataFrame or Series through chained assignment using an inplace method.\n",
      "The behavior will change in pandas 3.0. This inplace method will never work because the intermediate object on which we are setting values always behaves as a copy.\n",
      "\n",
      "For example, when doing 'df[col].method(value, inplace=True)', try using 'df.method({col: value}, inplace=True)' or df[col] = df[col].method(value) instead, to perform the operation inplace on the original object.\n",
      "\n",
      "\n",
      "  pp.Brick_Veneer_Area.fillna(0.0,inplace=True)\n",
      "C:\\Users\\NIHARIKA\\AppData\\Local\\Temp\\ipykernel_5668\\1542776808.py:4: FutureWarning: A value is trying to be set on a copy of a DataFrame or Series through chained assignment using an inplace method.\n",
      "The behavior will change in pandas 3.0. This inplace method will never work because the intermediate object on which we are setting values always behaves as a copy.\n",
      "\n",
      "For example, when doing 'df[col].method(value, inplace=True)', try using 'df.method({col: value}, inplace=True)' or df[col] = df[col].method(value) instead, to perform the operation inplace on the original object.\n",
      "\n",
      "\n",
      "  pp.Basement_Height.fillna('TA',inplace=True)\n",
      "C:\\Users\\NIHARIKA\\AppData\\Local\\Temp\\ipykernel_5668\\1542776808.py:5: FutureWarning: A value is trying to be set on a copy of a DataFrame or Series through chained assignment using an inplace method.\n",
      "The behavior will change in pandas 3.0. This inplace method will never work because the intermediate object on which we are setting values always behaves as a copy.\n",
      "\n",
      "For example, when doing 'df[col].method(value, inplace=True)', try using 'df.method({col: value}, inplace=True)' or df[col] = df[col].method(value) instead, to perform the operation inplace on the original object.\n",
      "\n",
      "\n",
      "  pp.Basement_Condition.fillna('TA',inplace=True)\n",
      "C:\\Users\\NIHARIKA\\AppData\\Local\\Temp\\ipykernel_5668\\1542776808.py:6: FutureWarning: A value is trying to be set on a copy of a DataFrame or Series through chained assignment using an inplace method.\n",
      "The behavior will change in pandas 3.0. This inplace method will never work because the intermediate object on which we are setting values always behaves as a copy.\n",
      "\n",
      "For example, when doing 'df[col].method(value, inplace=True)', try using 'df.method({col: value}, inplace=True)' or df[col] = df[col].method(value) instead, to perform the operation inplace on the original object.\n",
      "\n",
      "\n",
      "  pp.Exposure_Level.fillna('No',inplace=True)\n",
      "C:\\Users\\NIHARIKA\\AppData\\Local\\Temp\\ipykernel_5668\\1542776808.py:7: FutureWarning: A value is trying to be set on a copy of a DataFrame or Series through chained assignment using an inplace method.\n",
      "The behavior will change in pandas 3.0. This inplace method will never work because the intermediate object on which we are setting values always behaves as a copy.\n",
      "\n",
      "For example, when doing 'df[col].method(value, inplace=True)', try using 'df.method({col: value}, inplace=True)' or df[col] = df[col].method(value) instead, to perform the operation inplace on the original object.\n",
      "\n",
      "\n",
      "  pp.BsmtFinType1.fillna('Unf',inplace=True)\n",
      "C:\\Users\\NIHARIKA\\AppData\\Local\\Temp\\ipykernel_5668\\1542776808.py:8: FutureWarning: A value is trying to be set on a copy of a DataFrame or Series through chained assignment using an inplace method.\n",
      "The behavior will change in pandas 3.0. This inplace method will never work because the intermediate object on which we are setting values always behaves as a copy.\n",
      "\n",
      "For example, when doing 'df[col].method(value, inplace=True)', try using 'df.method({col: value}, inplace=True)' or df[col] = df[col].method(value) instead, to perform the operation inplace on the original object.\n",
      "\n",
      "\n",
      "  pp.BsmtFinType2.fillna('Unf',inplace=True)\n",
      "C:\\Users\\NIHARIKA\\AppData\\Local\\Temp\\ipykernel_5668\\1542776808.py:9: FutureWarning: A value is trying to be set on a copy of a DataFrame or Series through chained assignment using an inplace method.\n",
      "The behavior will change in pandas 3.0. This inplace method will never work because the intermediate object on which we are setting values always behaves as a copy.\n",
      "\n",
      "For example, when doing 'df[col].method(value, inplace=True)', try using 'df.method({col: value}, inplace=True)' or df[col] = df[col].method(value) instead, to perform the operation inplace on the original object.\n",
      "\n",
      "\n",
      "  pp.Electrical_System.fillna('SBrkr',inplace=True)\n",
      "C:\\Users\\NIHARIKA\\AppData\\Local\\Temp\\ipykernel_5668\\1542776808.py:11: FutureWarning: A value is trying to be set on a copy of a DataFrame or Series through chained assignment using an inplace method.\n",
      "The behavior will change in pandas 3.0. This inplace method will never work because the intermediate object on which we are setting values always behaves as a copy.\n",
      "\n",
      "For example, when doing 'df[col].method(value, inplace=True)', try using 'df.method({col: value}, inplace=True)' or df[col] = df[col].method(value) instead, to perform the operation inplace on the original object.\n",
      "\n",
      "\n",
      "  pp.Garage.fillna('Attchd',inplace=True)\n",
      "C:\\Users\\NIHARIKA\\AppData\\Local\\Temp\\ipykernel_5668\\1542776808.py:12: FutureWarning: A value is trying to be set on a copy of a DataFrame or Series through chained assignment using an inplace method.\n",
      "The behavior will change in pandas 3.0. This inplace method will never work because the intermediate object on which we are setting values always behaves as a copy.\n",
      "\n",
      "For example, when doing 'df[col].method(value, inplace=True)', try using 'df.method({col: value}, inplace=True)' or df[col] = df[col].method(value) instead, to perform the operation inplace on the original object.\n",
      "\n",
      "\n",
      "  pp.Garage_Built_Year.fillna(pp.Garage_Built_Year.mean(),inplace=True)\n",
      "C:\\Users\\NIHARIKA\\AppData\\Local\\Temp\\ipykernel_5668\\1542776808.py:13: FutureWarning: A value is trying to be set on a copy of a DataFrame or Series through chained assignment using an inplace method.\n",
      "The behavior will change in pandas 3.0. This inplace method will never work because the intermediate object on which we are setting values always behaves as a copy.\n",
      "\n",
      "For example, when doing 'df[col].method(value, inplace=True)', try using 'df.method({col: value}, inplace=True)' or df[col] = df[col].method(value) instead, to perform the operation inplace on the original object.\n",
      "\n",
      "\n",
      "  pp.Garage_Finish_Year.fillna('Unf',inplace=True)\n",
      "C:\\Users\\NIHARIKA\\AppData\\Local\\Temp\\ipykernel_5668\\1542776808.py:14: FutureWarning: A value is trying to be set on a copy of a DataFrame or Series through chained assignment using an inplace method.\n",
      "The behavior will change in pandas 3.0. This inplace method will never work because the intermediate object on which we are setting values always behaves as a copy.\n",
      "\n",
      "For example, when doing 'df[col].method(value, inplace=True)', try using 'df.method({col: value}, inplace=True)' or df[col] = df[col].method(value) instead, to perform the operation inplace on the original object.\n",
      "\n",
      "\n",
      "  pp.Garage_Quality.fillna('TA',inplace=True)\n",
      "C:\\Users\\NIHARIKA\\AppData\\Local\\Temp\\ipykernel_5668\\1542776808.py:15: FutureWarning: A value is trying to be set on a copy of a DataFrame or Series through chained assignment using an inplace method.\n",
      "The behavior will change in pandas 3.0. This inplace method will never work because the intermediate object on which we are setting values always behaves as a copy.\n",
      "\n",
      "For example, when doing 'df[col].method(value, inplace=True)', try using 'df.method({col: value}, inplace=True)' or df[col] = df[col].method(value) instead, to perform the operation inplace on the original object.\n",
      "\n",
      "\n",
      "  pp.Garage_Condition.fillna('TA',inplace=True)\n"
     ]
    }
   ],
   "source": [
    "pp.Lot_Extent.fillna(60.0,inplace=True)\n",
    "\n",
    "pp.Brick_Veneer_Area.fillna(0.0,inplace=True)\n",
    "pp.Basement_Height.fillna('TA',inplace=True)\n",
    "pp.Basement_Condition.fillna('TA',inplace=True)\n",
    "pp.Exposure_Level.fillna('No',inplace=True)\n",
    "pp.BsmtFinType1.fillna('Unf',inplace=True)\n",
    "pp.BsmtFinType2.fillna('Unf',inplace=True)\n",
    "pp.Electrical_System.fillna('SBrkr',inplace=True)\n",
    "\n",
    "pp.Garage.fillna('Attchd',inplace=True)\n",
    "pp.Garage_Built_Year.fillna(pp.Garage_Built_Year.mean(),inplace=True)\n",
    "pp.Garage_Finish_Year.fillna('Unf',inplace=True)\n",
    "pp.Garage_Quality.fillna('TA',inplace=True)\n",
    "pp.Garage_Condition.fillna('TA',inplace=True)"
   ]
  },
  {
   "cell_type": "code",
   "execution_count": 9,
   "id": "0d1a6047",
   "metadata": {},
   "outputs": [
    {
     "data": {
      "text/plain": [
       "Index(['Zoning_Class', 'Road_Type', 'Property_Shape', 'Land_Outline',\n",
       "       'Utility_Type', 'Lot_Configuration', 'Property_Slope', 'Neighborhood',\n",
       "       'Condition1', 'Condition2', 'House_Type', 'House_Design', 'Roof_Design',\n",
       "       'Roof_Quality', 'Exterior1st', 'Exterior2nd', 'Exterior_Material',\n",
       "       'Exterior_Condition', 'Foundation_Type', 'Basement_Height',\n",
       "       'Basement_Condition', 'Exposure_Level', 'BsmtFinType1', 'BsmtFinType2',\n",
       "       'Heating_Type', 'Heating_Quality', 'Air_Conditioning',\n",
       "       'Electrical_System', 'Kitchen_Quality', 'Functional_Rate', 'Garage',\n",
       "       'Garage_Finish_Year', 'Garage_Quality', 'Garage_Condition',\n",
       "       'Pavedd_Drive', 'Sale_Type', 'Sale_Condition'],\n",
       "      dtype='object')"
      ]
     },
     "execution_count": 9,
     "metadata": {},
     "output_type": "execute_result"
    }
   ],
   "source": [
    "pp.select_dtypes(include='object').columns"
   ]
  },
  {
   "cell_type": "code",
   "execution_count": 10,
   "id": "85fc9e77",
   "metadata": {},
   "outputs": [],
   "source": [
    "from sklearn.preprocessing import LabelEncoder\n",
    "le=LabelEncoder()"
   ]
  },
  {
   "cell_type": "code",
   "execution_count": 11,
   "id": "459cf664",
   "metadata": {},
   "outputs": [],
   "source": [
    "pp[pp.select_dtypes(include='object').columns]=pp[pp.select_dtypes(include='object').columns].apply(le.fit_transform)\n"
   ]
  },
  {
   "cell_type": "code",
   "execution_count": 12,
   "id": "5f699a48",
   "metadata": {},
   "outputs": [
    {
     "data": {
      "text/plain": [
       "[Index([], dtype='object')]"
      ]
     },
     "execution_count": 12,
     "metadata": {},
     "output_type": "execute_result"
    }
   ],
   "source": [
    "[pp.select_dtypes(include='object').columns]"
   ]
  },
  {
   "cell_type": "code",
   "execution_count": 13,
   "id": "fbff477f",
   "metadata": {},
   "outputs": [],
   "source": [
    "#aim --out of 74 --73 x and 1 is y---in this x it is feature selection not sampling \n",
    "pp_x=pp.iloc[:,0:-1]"
   ]
  },
  {
   "cell_type": "code",
   "execution_count": 14,
   "id": "2eb4773a",
   "metadata": {},
   "outputs": [],
   "source": [
    "\n",
    "cols=[]\n",
    "corr=[]\n",
    "for i in pp_x.columns:\n",
    "    cols.append(i)\n",
    "    corr.append(pp_x[i].corr(pp.Sale_Price))"
   ]
  },
  {
   "cell_type": "code",
   "execution_count": 15,
   "id": "f0645810",
   "metadata": {},
   "outputs": [],
   "source": [
    "feat_imp=pd.DataFrame()\n",
    "feat_imp['Features']=cols\n",
    "feat_imp['Corr']=corr"
   ]
  },
  {
   "cell_type": "code",
   "execution_count": 16,
   "id": "b9efaaf3",
   "metadata": {},
   "outputs": [
    {
     "data": {
      "text/html": [
       "<div>\n",
       "<style scoped>\n",
       "    .dataframe tbody tr th:only-of-type {\n",
       "        vertical-align: middle;\n",
       "    }\n",
       "\n",
       "    .dataframe tbody tr th {\n",
       "        vertical-align: top;\n",
       "    }\n",
       "\n",
       "    .dataframe thead th {\n",
       "        text-align: right;\n",
       "    }\n",
       "</style>\n",
       "<table border=\"1\" class=\"dataframe\">\n",
       "  <thead>\n",
       "    <tr style=\"text-align: right;\">\n",
       "      <th></th>\n",
       "      <th>Features</th>\n",
       "      <th>Corr</th>\n",
       "    </tr>\n",
       "  </thead>\n",
       "  <tbody>\n",
       "    <tr>\n",
       "      <th>0</th>\n",
       "      <td>Building_Class</td>\n",
       "      <td>-0.084563</td>\n",
       "    </tr>\n",
       "    <tr>\n",
       "      <th>1</th>\n",
       "      <td>Zoning_Class</td>\n",
       "      <td>-0.166896</td>\n",
       "    </tr>\n",
       "    <tr>\n",
       "      <th>2</th>\n",
       "      <td>Lot_Extent</td>\n",
       "      <td>0.329338</td>\n",
       "    </tr>\n",
       "    <tr>\n",
       "      <th>3</th>\n",
       "      <td>Lot_Size</td>\n",
       "      <td>0.263843</td>\n",
       "    </tr>\n",
       "    <tr>\n",
       "      <th>4</th>\n",
       "      <td>Road_Type</td>\n",
       "      <td>0.041057</td>\n",
       "    </tr>\n",
       "  </tbody>\n",
       "</table>\n",
       "</div>"
      ],
      "text/plain": [
       "         Features      Corr\n",
       "0  Building_Class -0.084563\n",
       "1    Zoning_Class -0.166896\n",
       "2      Lot_Extent  0.329338\n",
       "3        Lot_Size  0.263843\n",
       "4       Road_Type  0.041057"
      ]
     },
     "execution_count": 16,
     "metadata": {},
     "output_type": "execute_result"
    }
   ],
   "source": [
    "feat_imp.head()"
   ]
  },
  {
   "cell_type": "code",
   "execution_count": 17,
   "id": "ed377226",
   "metadata": {},
   "outputs": [],
   "source": [
    "l1=list(feat_imp[(feat_imp.Corr> 0.3) | (feat_imp.Corr < -0.3)].Features)\n",
    "l1.append('Sale_Price')"
   ]
  },
  {
   "cell_type": "code",
   "execution_count": 18,
   "id": "0db1167d",
   "metadata": {},
   "outputs": [],
   "source": [
    "pp=pp.loc[:,l1]\n"
   ]
  },
  {
   "cell_type": "code",
   "execution_count": 19,
   "id": "2e45a2fa",
   "metadata": {},
   "outputs": [],
   "source": [
    "from sklearn.model_selection import train_test_split"
   ]
  },
  {
   "cell_type": "code",
   "execution_count": 20,
   "id": "d82d433b",
   "metadata": {},
   "outputs": [],
   "source": [
    "train_pp,test_pp=train_test_split(pp,test_size=.2)\n",
    "pp_train_x=train_pp.iloc[:,0:-1]\n",
    "pp_train_y=train_pp.iloc[:,-1]\n",
    "pp_test_x=test_pp.iloc[:,0:-1]\n",
    "pp_test_y=test_pp.iloc[:,-1]"
   ]
  },
  {
   "cell_type": "code",
   "execution_count": 21,
   "id": "3ec4fee9",
   "metadata": {},
   "outputs": [
    {
     "data": {
      "text/html": [
       "<style>#sk-container-id-1 {color: black;background-color: white;}#sk-container-id-1 pre{padding: 0;}#sk-container-id-1 div.sk-toggleable {background-color: white;}#sk-container-id-1 label.sk-toggleable__label {cursor: pointer;display: block;width: 100%;margin-bottom: 0;padding: 0.3em;box-sizing: border-box;text-align: center;}#sk-container-id-1 label.sk-toggleable__label-arrow:before {content: \"▸\";float: left;margin-right: 0.25em;color: #696969;}#sk-container-id-1 label.sk-toggleable__label-arrow:hover:before {color: black;}#sk-container-id-1 div.sk-estimator:hover label.sk-toggleable__label-arrow:before {color: black;}#sk-container-id-1 div.sk-toggleable__content {max-height: 0;max-width: 0;overflow: hidden;text-align: left;background-color: #f0f8ff;}#sk-container-id-1 div.sk-toggleable__content pre {margin: 0.2em;color: black;border-radius: 0.25em;background-color: #f0f8ff;}#sk-container-id-1 input.sk-toggleable__control:checked~div.sk-toggleable__content {max-height: 200px;max-width: 100%;overflow: auto;}#sk-container-id-1 input.sk-toggleable__control:checked~label.sk-toggleable__label-arrow:before {content: \"▾\";}#sk-container-id-1 div.sk-estimator input.sk-toggleable__control:checked~label.sk-toggleable__label {background-color: #d4ebff;}#sk-container-id-1 div.sk-label input.sk-toggleable__control:checked~label.sk-toggleable__label {background-color: #d4ebff;}#sk-container-id-1 input.sk-hidden--visually {border: 0;clip: rect(1px 1px 1px 1px);clip: rect(1px, 1px, 1px, 1px);height: 1px;margin: -1px;overflow: hidden;padding: 0;position: absolute;width: 1px;}#sk-container-id-1 div.sk-estimator {font-family: monospace;background-color: #f0f8ff;border: 1px dotted black;border-radius: 0.25em;box-sizing: border-box;margin-bottom: 0.5em;}#sk-container-id-1 div.sk-estimator:hover {background-color: #d4ebff;}#sk-container-id-1 div.sk-parallel-item::after {content: \"\";width: 100%;border-bottom: 1px solid gray;flex-grow: 1;}#sk-container-id-1 div.sk-label:hover label.sk-toggleable__label {background-color: #d4ebff;}#sk-container-id-1 div.sk-serial::before {content: \"\";position: absolute;border-left: 1px solid gray;box-sizing: border-box;top: 0;bottom: 0;left: 50%;z-index: 0;}#sk-container-id-1 div.sk-serial {display: flex;flex-direction: column;align-items: center;background-color: white;padding-right: 0.2em;padding-left: 0.2em;position: relative;}#sk-container-id-1 div.sk-item {position: relative;z-index: 1;}#sk-container-id-1 div.sk-parallel {display: flex;align-items: stretch;justify-content: center;background-color: white;position: relative;}#sk-container-id-1 div.sk-item::before, #sk-container-id-1 div.sk-parallel-item::before {content: \"\";position: absolute;border-left: 1px solid gray;box-sizing: border-box;top: 0;bottom: 0;left: 50%;z-index: -1;}#sk-container-id-1 div.sk-parallel-item {display: flex;flex-direction: column;z-index: 1;position: relative;background-color: white;}#sk-container-id-1 div.sk-parallel-item:first-child::after {align-self: flex-end;width: 50%;}#sk-container-id-1 div.sk-parallel-item:last-child::after {align-self: flex-start;width: 50%;}#sk-container-id-1 div.sk-parallel-item:only-child::after {width: 0;}#sk-container-id-1 div.sk-dashed-wrapped {border: 1px dashed gray;margin: 0 0.4em 0.5em 0.4em;box-sizing: border-box;padding-bottom: 0.4em;background-color: white;}#sk-container-id-1 div.sk-label label {font-family: monospace;font-weight: bold;display: inline-block;line-height: 1.2em;}#sk-container-id-1 div.sk-label-container {text-align: center;}#sk-container-id-1 div.sk-container {/* jupyter's `normalize.less` sets `[hidden] { display: none; }` but bootstrap.min.css set `[hidden] { display: none !important; }` so we also need the `!important` here to be able to override the default hidden behavior on the sphinx rendered scikit-learn.org. See: https://github.com/scikit-learn/scikit-learn/issues/21755 */display: inline-block !important;position: relative;}#sk-container-id-1 div.sk-text-repr-fallback {display: none;}</style><div id=\"sk-container-id-1\" class=\"sk-top-container\"><div class=\"sk-text-repr-fallback\"><pre>LinearRegression()</pre><b>In a Jupyter environment, please rerun this cell to show the HTML representation or trust the notebook. <br />On GitHub, the HTML representation is unable to render, please try loading this page with nbviewer.org.</b></div><div class=\"sk-container\" hidden><div class=\"sk-item\"><div class=\"sk-estimator sk-toggleable\"><input class=\"sk-toggleable__control sk-hidden--visually\" id=\"sk-estimator-id-1\" type=\"checkbox\" checked><label for=\"sk-estimator-id-1\" class=\"sk-toggleable__label sk-toggleable__label-arrow\">LinearRegression</label><div class=\"sk-toggleable__content\"><pre>LinearRegression()</pre></div></div></div></div></div>"
      ],
      "text/plain": [
       "LinearRegression()"
      ]
     },
     "execution_count": 21,
     "metadata": {},
     "output_type": "execute_result"
    }
   ],
   "source": [
    "from sklearn.linear_model import LinearRegression\n",
    "lr1=LinearRegression()\n",
    "lr1.fit(pp_train_x,pp_train_y)"
   ]
  },
  {
   "cell_type": "code",
   "execution_count": 22,
   "id": "28496dda",
   "metadata": {},
   "outputs": [
    {
     "data": {
      "text/plain": [
       "0.8059016413508246"
      ]
     },
     "execution_count": 22,
     "metadata": {},
     "output_type": "execute_result"
    }
   ],
   "source": [
    "Rsquare=lr1.score(pp_train_x,pp_train_y)#rsquare\n",
    "Rsquare"
   ]
  },
  {
   "cell_type": "code",
   "execution_count": 23,
   "id": "f874c6d3",
   "metadata": {},
   "outputs": [],
   "source": [
    "N=pp_train_x.shape[0]\n",
    "K=pp_train_x.shape[1]"
   ]
  },
  {
   "cell_type": "code",
   "execution_count": 24,
   "id": "a7bca009",
   "metadata": {},
   "outputs": [
    {
     "data": {
      "text/plain": [
       "0.8021689806075712"
      ]
     },
     "execution_count": 24,
     "metadata": {},
     "output_type": "execute_result"
    }
   ],
   "source": [
    "Adquare=1-(1-Rsquare)*(N-1)/(N-K-1)\n",
    "Adquare"
   ]
  },
  {
   "cell_type": "code",
   "execution_count": 25,
   "id": "5a89eb43",
   "metadata": {},
   "outputs": [
    {
     "data": {
      "text/plain": [
       "array([-3.44843537e+01,  1.46552336e+04,  1.16624890e+02,  1.68432785e+02,\n",
       "        1.61045909e+01, -4.80683236e+03, -9.68327039e+02, -7.99540844e+03,\n",
       "        1.94342706e+01, -3.52444336e-01, -1.05022642e+03,  2.49837490e+01,\n",
       "        1.15530936e+01,  2.22080601e+01, -2.59696495e+03, -1.02564244e+04,\n",
       "        2.29544024e+03,  7.72406004e+03, -1.08741300e+03, -6.45499431e+01,\n",
       "       -2.86201909e+03,  1.45679231e+04])"
      ]
     },
     "execution_count": 25,
     "metadata": {},
     "output_type": "execute_result"
    }
   ],
   "source": [
    "lr1.coef_"
   ]
  },
  {
   "cell_type": "code",
   "execution_count": 26,
   "id": "f974a137",
   "metadata": {},
   "outputs": [
    {
     "data": {
      "text/plain": [
       "-396837.91617065674"
      ]
     },
     "execution_count": 26,
     "metadata": {},
     "output_type": "execute_result"
    }
   ],
   "source": [
    "lr1.intercept_"
   ]
  },
  {
   "cell_type": "code",
   "execution_count": 27,
   "id": "7bfb81cc",
   "metadata": {},
   "outputs": [
    {
     "data": {
      "text/plain": [
       "array([ 75683.71731673,  93865.68241542,  85005.43235018, ...,\n",
       "       298172.26399028, 128581.78850297, 152408.64817008])"
      ]
     },
     "execution_count": 27,
     "metadata": {},
     "output_type": "execute_result"
    }
   ],
   "source": [
    "pred_train=lr1.predict(pp_train_x)# as we can see our first predicted model value is same to manuaaly one \n",
    "pred_train"
   ]
  },
  {
   "cell_type": "code",
   "execution_count": 28,
   "id": "34cc26c8",
   "metadata": {},
   "outputs": [
    {
     "data": {
      "text/plain": [
       "array([108129.91140587, 124375.96428346, 168876.99777623, 222354.39364725,\n",
       "       287014.58044019, 234230.72625072, 198544.2014422 , 145820.45647247,\n",
       "       128724.99452133, 215128.28721088, 191850.98530785, 249399.44463951,\n",
       "       120498.92054648, 178264.68872866,  77379.49196003, 113491.31861864,\n",
       "       355953.3140575 , 235107.11706779, 276717.15662299,  97623.97865648,\n",
       "       338716.93356401, 251254.39416282, 168349.4750446 , 183964.31678256,\n",
       "       190349.94653849, 189461.91180468, 184110.36951399, 137830.61068998,\n",
       "        78238.11997298, 245699.59089212, 203975.99455598, 168517.15716306,\n",
       "       190766.78311387, 281935.3361774 , 189287.04274211, 103187.79310785,\n",
       "        80531.47885147, 114005.1505188 , 169990.17334793, 289789.41396993,\n",
       "       120641.64886155, 118895.74285709, 311845.49672324, 171302.26934758,\n",
       "       138293.61708019, 106003.95069421, 324503.23927499,  96603.63943328,\n",
       "       273734.3359016 , 121552.29771458, 159368.10517206, 293709.7155098 ,\n",
       "       203935.34077098, 163984.52583428, 209592.25834756, 192570.01282838,\n",
       "       480988.33640204, 200956.49260639, 108449.33021315, 226044.31424484,\n",
       "       145344.50873767, 184429.91820506, 248510.76832066, 152204.6396126 ,\n",
       "       165340.65869311, 365894.60985413, 171977.13070625,  72606.50231824,\n",
       "       140211.84622327, 290246.68177261, 139180.13865083, 246997.81807549,\n",
       "       268756.66181128, 200024.94902066, 220396.89577832, 241343.01471205,\n",
       "       105641.11040213, 211939.18736465,  92817.95155761, 198012.44746374,\n",
       "       176872.72822005,  87405.51540048, 229234.7532091 , 206562.03547568,\n",
       "       166219.28582544, 174613.19423525, 159261.59749938, 158004.20690603,\n",
       "       382072.79442224, 245996.96366513, 150181.85179033, 107273.35220445,\n",
       "       266091.64820646, 107988.844202  ,  96722.93181609,  83424.31453834,\n",
       "        89183.34799861,  84632.70494669, 130552.23369392, 154678.15964074,\n",
       "       304895.7003964 , 249035.43423229, 183623.98604415, 206545.60098196,\n",
       "       140189.50583381, 241965.36324864, 133596.89084252, 196406.07812951,\n",
       "       229015.68900515, 193861.47541279, 165346.04735344, 183652.27423778,\n",
       "       257762.17384856, 230713.43819766, 233772.18043162, 124246.6790848 ,\n",
       "       207497.37843036, 108332.3314871 , 190768.05265751, 139516.87172525,\n",
       "       143882.91861863, 220207.85010128,  66337.89655376, 246564.98068409,\n",
       "       151727.90697189,  59600.02700909, 268394.92926381, 169448.37628376,\n",
       "       115670.46984242, 291446.79983813, 102132.73928193,  96190.69974216,\n",
       "       172131.71291955, 227828.80757454,  90896.31579594, 201844.48028717,\n",
       "       196452.6830018 , 167180.80823695, 193119.88307634, 197317.10334971,\n",
       "       168803.41296373, 215612.533699  ,  89016.4564819 , 120563.98188748,\n",
       "       175920.59908773, 119500.07731762, 146276.16311453, 102440.39922856,\n",
       "       315920.95696471, 174473.86535119, 154735.61208384,  77395.92957813,\n",
       "       188628.95999762,  79345.19906993, 130443.78344963, 207943.93011111,\n",
       "       143032.1355871 , 173381.50543993,  73106.44567401, 119030.68101978,\n",
       "       132870.95567981, 127148.21037741, 230255.95291207, 203183.48060024,\n",
       "       190463.94959821, 345475.143532  , 131721.25503029, 219147.26673164,\n",
       "       149201.19692356, 155978.95448029, 138584.90760793, 280998.47824906,\n",
       "       107407.99061677, 265769.70566646, 103459.0551646 , 226373.71199672,\n",
       "       237460.13785716, 106364.92642211, 241848.54910411, 245651.56379415,\n",
       "        91751.03844334, 195982.33041803, 221375.80801452, 103638.5882779 ,\n",
       "       159542.02693311,  63789.58820542, 214444.55779489,  70609.40838554,\n",
       "       164070.16541975,  87834.62040057, 163841.52851012, 169138.1071688 ,\n",
       "       151203.54217934, 274734.61286785, 157598.72019133, 163250.43525973,\n",
       "       127403.98558378, 132772.69579758, 297789.57832028, 128755.87651287,\n",
       "       104692.63135824,  98128.17381197, 187376.40855788, 279471.84722831,\n",
       "       170480.41430029, 126213.67721821, 361066.60143222, 115880.33973684,\n",
       "       188535.21112159, 259216.29017075, 187215.60425969, 143496.41380479,\n",
       "       273145.96788254, 118223.76321431, 161534.94256448, 100071.5317538 ,\n",
       "       128069.96019263,  66749.37723336, 220351.62342411, 201950.07064234,\n",
       "       134767.38947625, 213668.91894664, 168033.11425023,  98171.02191239,\n",
       "       126381.51207629, 188359.29247384, 122877.17208837,  92381.59951492,\n",
       "       119974.96796162, 348797.52179195, 209420.79748563, 308006.23086892,\n",
       "       110882.35319677, 221539.34945786, 231288.40983018, 170812.42055943,\n",
       "       226803.07308285, 288129.11725193, 297018.02776112, 269396.44909366,\n",
       "       194336.41106874, 311333.05982015, 140255.39423235, 223743.90885055,\n",
       "       216004.88341983, 250372.01193541,  96838.05113297, 187092.13778075,\n",
       "       175820.84307913, 196978.17460723, 176629.9941383 , 235182.31892701,\n",
       "       125088.51304973, 203116.24439198, 311484.51500743, 123207.94159939,\n",
       "       413994.26410638, 202405.2537081 , 245376.42259916, 128462.00889299,\n",
       "       257835.97948635, 332341.71102426, 152463.71687794, 115332.76646661,\n",
       "       129431.14243281,  90863.38768999,  59105.18738593, 161491.75162838,\n",
       "       207504.19705261, 182101.84897095, 248813.74098181, 138808.01560335,\n",
       "        60125.51366   , 204317.77607057, 199888.85126864, 182863.84849832,\n",
       "       165011.15471592, 211981.11784671, 190902.78629487, 259185.21840862,\n",
       "       195103.26309778, 160857.49822513, 114950.90595159, 133314.05339857,\n",
       "       129352.0063438 , 211147.13175867, 251456.76609541, 124117.82439576,\n",
       "       123475.6471515 , 118809.84694479, 204640.28139364, 111564.63529781])"
      ]
     },
     "execution_count": 28,
     "metadata": {},
     "output_type": "execute_result"
    }
   ],
   "source": [
    "pred_test=lr1.predict(pp_test_x)# as we can see our first predicted model value is same to manuaaly one \n",
    "pred_test"
   ]
  },
  {
   "cell_type": "code",
   "execution_count": 29,
   "id": "daf1b7d8",
   "metadata": {},
   "outputs": [],
   "source": [
    "actual_pred = pd.DataFrame()\n",
    "actual_pred['Actual']=pp_test_y\n",
    "actual_pred['Pred']=pred_test"
   ]
  },
  {
   "cell_type": "code",
   "execution_count": 30,
   "id": "e4e2b407",
   "metadata": {},
   "outputs": [],
   "source": [
    "err_train_pp= pp_train_y-pred_train\n",
    "err_test_pp=pp_test_y-pred_test"
   ]
  },
  {
   "cell_type": "code",
   "execution_count": 31,
   "id": "87507e1c",
   "metadata": {},
   "outputs": [
    {
     "data": {
      "text/plain": [
       "-1.805584683005587e-11"
      ]
     },
     "execution_count": 31,
     "metadata": {},
     "output_type": "execute_result"
    }
   ],
   "source": [
    "err_train_pp.mean()"
   ]
  },
  {
   "cell_type": "code",
   "execution_count": 32,
   "id": "00e15f73",
   "metadata": {},
   "outputs": [
    {
     "data": {
      "text/plain": [
       "-1.4409887515952216"
      ]
     },
     "execution_count": 32,
     "metadata": {},
     "output_type": "execute_result"
    }
   ],
   "source": [
    "err_train_pp.skew()"
   ]
  },
  {
   "cell_type": "code",
   "execution_count": 33,
   "id": "8f1352ea",
   "metadata": {},
   "outputs": [
    {
     "data": {
      "text/plain": [
       "41.94601077768473"
      ]
     },
     "execution_count": 33,
     "metadata": {},
     "output_type": "execute_result"
    }
   ],
   "source": [
    "err_train_pp.kurtosis()"
   ]
  },
  {
   "cell_type": "code",
   "execution_count": 34,
   "id": "a1dd8faf",
   "metadata": {},
   "outputs": [
    {
     "data": {
      "text/plain": [
       "(array([  1.,   0.,   0.,   0.,   0.,   1.,   0.,   0.,   0.,   0.,   0.,\n",
       "          0.,   0.,   1.,   0.,   5.,  33., 185., 461., 359.,  80.,  23.,\n",
       "          6.,   3.,   4.,   1.,   2.,   1.,   0.,   1.]),\n",
       " array([-466098.14892988, -441338.43119602, -416578.71346215,\n",
       "        -391818.99572828, -367059.27799442, -342299.56026055,\n",
       "        -317539.84252668, -292780.12479281, -268020.40705895,\n",
       "        -243260.68932508, -218500.97159121, -193741.25385735,\n",
       "        -168981.53612348, -144221.81838961, -119462.10065575,\n",
       "         -94702.38292188,  -69942.66518801,  -45182.94745415,\n",
       "         -20423.22972028,    4336.48801359,   29096.20574746,\n",
       "          53855.92348132,   78615.64121519,  103375.35894906,\n",
       "         128135.07668292,  152894.79441679,  177654.51215066,\n",
       "         202414.22988452,  227173.94761839,  251933.66535226,\n",
       "         276693.38308613]),\n",
       " <BarContainer object of 30 artists>)"
      ]
     },
     "execution_count": 34,
     "metadata": {},
     "output_type": "execute_result"
    },
    {
     "data": {
      "image/png": "[encoded data removed]",
      "text/plain": [
       "<Figure size 640x480 with 1 Axes>"
      ]
     },
     "metadata": {},
     "output_type": "display_data"
    }
   ],
   "source": [
    "import matplotlib.pyplot as plt\n",
    "import seaborn as sns\n",
    "plt.hist(err_train_pp,bins=30,edgecolor='black')"
   ]
  },
  {
   "cell_type": "code",
   "execution_count": 35,
   "id": "9cafbfe3",
   "metadata": {},
   "outputs": [
    {
     "data": {
      "text/plain": [
       "[<matplotlib.lines.Line2D at 0x23b4caeae60>]"
      ]
     },
     "execution_count": 35,
     "metadata": {},
     "output_type": "execute_result"
    },
    {
     "data": {
      "image/png": "[encoded data removed]",
      "text/plain": [
       "<Figure size 640x480 with 1 Axes>"
      ]
     },
     "metadata": {},
     "output_type": "display_data"
    }
   ],
   "source": [
    "plt.plot(err_train_pp,'*')"
   ]
  },
  {
   "cell_type": "code",
   "execution_count": 36,
   "id": "8260b43b",
   "metadata": {},
   "outputs": [
    {
     "data": {
      "text/plain": [
       "<Axes: >"
      ]
     },
     "execution_count": 36,
     "metadata": {},
     "output_type": "execute_result"
    },
    {
     "data": {
      "image/png": "[encoded data removed]",
      "text/plain": [
       "<Figure size 640x480 with 1 Axes>"
      ]
     },
     "metadata": {},
     "output_type": "display_data"
    }
   ],
   "source": [
    "sns.boxplot(err_train_pp)"
   ]
  },
  {
   "cell_type": "code",
   "execution_count": 37,
   "id": "8a0a2de3",
   "metadata": {},
   "outputs": [],
   "source": [
    "actual_pred = pd.DataFrame()#empty data frame \n",
    "actual_pred['Actual']=pp_train_y#created colum in which valu taken from train \n",
    "actual_pred['Pred']=pred_train"
   ]
  },
  {
   "cell_type": "code",
   "execution_count": 38,
   "id": "fccbc35a",
   "metadata": {},
   "outputs": [],
   "source": [
    "import numpy as np"
   ]
  },
  {
   "cell_type": "code",
   "execution_count": 39,
   "id": "b13284a0",
   "metadata": {},
   "outputs": [
    {
     "data": {
      "text/plain": [
       "1185559108.4262795"
      ]
     },
     "execution_count": 39,
     "metadata": {},
     "output_type": "execute_result"
    }
   ],
   "source": [
    "mse_train=np.mean(np.square(err_train_pp))\n",
    "mse_train"
   ]
  },
  {
   "cell_type": "code",
   "execution_count": 40,
   "id": "9155c1b5",
   "metadata": {},
   "outputs": [
    {
     "data": {
      "text/plain": [
       "1229283603.880562"
      ]
     },
     "execution_count": 40,
     "metadata": {},
     "output_type": "execute_result"
    }
   ],
   "source": [
    "mse_test=np.mean(np.square(err_test_pp))\n",
    "mse_test"
   ]
  },
  {
   "cell_type": "code",
   "execution_count": 41,
   "id": "78bd6434",
   "metadata": {},
   "outputs": [
    {
     "data": {
      "text/plain": [
       "34431.948948996185"
      ]
     },
     "execution_count": 41,
     "metadata": {},
     "output_type": "execute_result"
    }
   ],
   "source": [
    "rmse_train=np.sqrt(mse_train)\n",
    "rmse_train"
   ]
  },
  {
   "cell_type": "code",
   "execution_count": 42,
   "id": "c84b94c4",
   "metadata": {},
   "outputs": [
    {
     "data": {
      "text/plain": [
       "34431.948948996185"
      ]
     },
     "execution_count": 42,
     "metadata": {},
     "output_type": "execute_result"
    }
   ],
   "source": [
    "rmse_train=np.sqrt(mse_train)\n",
    "rmse_train"
   ]
  },
  {
   "cell_type": "code",
   "execution_count": 43,
   "id": "863c2fe9",
   "metadata": {},
   "outputs": [],
   "source": [
    "mape_train=np.mean(np.abs(err_train_pp*100/pp_train_y))\n",
    "mape_test=np.mean(np.abs(err_test_pp*100/pp_test_y))"
   ]
  },
  {
   "cell_type": "code",
   "execution_count": 44,
   "id": "2e5f9a27",
   "metadata": {},
   "outputs": [
    {
     "data": {
      "text/plain": [
       "12.710028607255468"
      ]
     },
     "execution_count": 44,
     "metadata": {},
     "output_type": "execute_result"
    }
   ],
   "source": [
    "mape_train"
   ]
  },
  {
   "cell_type": "code",
   "execution_count": 45,
   "id": "cecc916b",
   "metadata": {},
   "outputs": [
    {
     "data": {
      "text/plain": [
       "13.085765251305498"
      ]
     },
     "execution_count": 45,
     "metadata": {},
     "output_type": "execute_result"
    }
   ],
   "source": [
    "mape_test"
   ]
  },
  {
   "cell_type": "code",
   "execution_count": 46,
   "id": "b0a62f9a",
   "metadata": {},
   "outputs": [],
   "source": [
    "def remove_outliers(df,col,k):\n",
    "    mean=df[col].mean()\n",
    "    global df1,var1\n",
    "    sd=df[col].std()\n",
    "    var1=[x for x in df[col]if (x>mean-k*sd)]\n",
    "    var1=[x for x in df[col]if (x<mean+k*sd)]\n",
    "    df1=df.loc[df[col].isin(var1)];\n",
    "    print(df1.shape)\n",
    "    print(\"number of outliers removed -->\",df.shape[0]-df1.shape[0])"
   ]
  },
  {
   "cell_type": "code",
   "execution_count": 47,
   "id": "d105830a",
   "metadata": {},
   "outputs": [
    {
     "name": "stdout",
     "output_type": "stream",
     "text": [
      "(1396, 23)\n",
      "number of outliers removed --> 63\n"
     ]
    }
   ],
   "source": [
    "remove_outliers(pp,'Sale_Price',2)"
   ]
  },
  {
   "cell_type": "code",
   "execution_count": null,
   "id": "9b6f0d12",
   "metadata": {},
   "outputs": [],
   "source": []
  }
 ],
 "metadata": {
  "kernelspec": {
   "display_name": "Python 3 (ipykernel)",
   "language": "python",
   "name": "python3"
  },
  "language_info": {
   "codemirror_mode": {
    "name": "ipython",
    "version": 3
   },
   "file_extension": ".py",
   "mimetype": "text/x-python",
   "name": "python",
   "nbconvert_exporter": "python",
   "pygments_lexer": "ipython3",
   "version": "3.10.9"
  }
 },
 "nbformat": 4,
 "nbformat_minor": 5
}
